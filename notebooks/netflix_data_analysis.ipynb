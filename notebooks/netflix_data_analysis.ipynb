{
 "cells": [
  {
   "cell_type": "markdown",
   "id": "13f3f9f8-379f-442e-ab82-a238116901c6",
   "metadata": {},
   "source": [
    "# Data analysis | Netflix"
   ]
  },
  {
   "cell_type": "markdown",
   "id": "703ed480-4b51-4497-8562-b1bc8e26a022",
   "metadata": {},
   "source": [
    "Netflix is one of the most popular media and video streaming platforms. They have over 8000 movies or tv shows available on their platform, as of mid-2021, they have over 200M Subscribers globally. This tabular dataset consists of listings of all the movies and tv shows available on Netflix, along with details such as - cast, directors, ratings, release year, duration, etc."
   ]
  },
  {
   "cell_type": "markdown",
   "id": "cc4178e6-f229-4ca8-b845-c1d777096f1e",
   "metadata": {},
   "source": [
    "## 1: Understanding the data\n",
    "\n",
    "In this section, I used pandas to explore my dataset, analyzing its characteristics, dimensions, and statistical properties.\n",
    "\n",
    "    The section includes:\n",
    "- summary statistics such as mean, median, mode, standard deviation, and quartiles, to understand the central tendency and distribution of the data for numerical columns;\n",
    "- conclusions based on these summary statistics;\n",
    "- summary statistics for categorical columns; and\n",
    "- conclusions based on these statistics."
   ]
  },
  {
   "cell_type": "code",
   "execution_count": 2,
   "id": "3c1fc077",
   "metadata": {},
   "outputs": [],
   "source": [
    "# Imported libraries necessary for the whole data journey.\n",
    "\n",
    "import pandas as pd\n",
    "import matplotlib.pyplot as plt\n",
    "import seaborn as sns"
   ]
  },
  {
   "cell_type": "code",
   "execution_count": 4,
   "id": "0835a661",
   "metadata": {},
   "outputs": [
    {
     "name": "stdout",
     "output_type": "stream",
     "text": [
      "2.2.1\n",
      "3.8.3\n",
      "0.13.2\n"
     ]
    }
   ],
   "source": [
    "print(pd.__version__)\n",
    "print(plt.matplotlib.__version__)\n",
    "print(sns.__version__)"
   ]
  },
  {
   "cell_type": "code",
   "execution_count": 5,
   "id": "f701b574",
   "metadata": {},
   "outputs": [
    {
     "data": {
      "text/plain": [
       "(8807, 12)"
      ]
     },
     "execution_count": 5,
     "metadata": {},
     "output_type": "execute_result"
    }
   ],
   "source": [
    "# Identified the dimensions of the dataset. It has 8807 rows and 12 columns.\n",
    "\n",
    "url = \"/Users/milenko/My Drive (1307mile@gmail.com)/bootcamp/w3 project/data/netflix_titles.csv\"\n",
    "netflix_df = pd.read_csv(url)\n",
    "netflix_df.shape"
   ]
  },
  {
   "cell_type": "code",
   "execution_count": null,
   "id": "16d4ad18-6fe8-4105-aff9-d26c05f3a03f",
   "metadata": {},
   "outputs": [],
   "source": [
    "response.content"
   ]
  },
  {
   "cell_type": "code",
   "execution_count": null,
   "id": "0c66aa1c-fa06-4500-963a-135b8f4ccbaf",
   "metadata": {},
   "outputs": [],
   "source": [
    "response.headers"
   ]
  },
  {
   "cell_type": "code",
   "execution_count": null,
   "id": "5433dd70-5b05-430c-bb2a-47514d214e87",
   "metadata": {},
   "outputs": [],
   "source": [
    "print(response.headers['Content-Type'])"
   ]
  },
  {
   "cell_type": "code",
   "execution_count": null,
   "id": "3e9dfddf-1960-43d5-bc67-62396230f3c0",
   "metadata": {},
   "outputs": [],
   "source": [
    "soup = BeautifulSoup(response.content, \"html.parser\")"
   ]
  },
  {
   "cell_type": "code",
   "execution_count": null,
   "id": "5df15971-88bb-4cfe-b052-fbfc0beead8e",
   "metadata": {},
   "outputs": [],
   "source": [
    "print(soup.prettify())"
   ]
  },
  {
   "cell_type": "code",
   "execution_count": null,
   "id": "4bdc0fdd-4840-474e-9903-56ffc2df1f89",
   "metadata": {},
   "outputs": [],
   "source": [
    "import pandas as pd\n",
    "\n",
    "netflix = pd.read_csv(\"/Users/milenko/My Drive (1307mile@gmail.com)/bootcamp/w3 project/data/netflix_titles.csv\")\n",
    "netflix.head()"
   ]
  },
  {
   "cell_type": "code",
   "execution_count": null,
   "id": "565b3627-6cde-4b90-be4e-cb808601c4f8",
   "metadata": {},
   "outputs": [],
   "source": [
    "nfwbs = pd.read_csv(\"/Users/milenko/My Drive (1307mile@gmail.com)/bootcamp/w3 project/data/NFWBS_PUF_2016_data.csv\")\n",
    "nfwbs.head()"
   ]
  },
  {
   "cell_type": "code",
   "execution_count": null,
   "id": "f9d916be-34bc-4fd5-947c-fcb46499cada",
   "metadata": {},
   "outputs": [],
   "source": [
    "fifa2 = pd.read_csv(\"/Users/milenko/My Drive (1307mile@gmail.com)/bootcamp/w3 project/data/fifa/fifa21 raw data v2.csv\")\n",
    "fifa2.head()"
   ]
  },
  {
   "cell_type": "code",
   "execution_count": null,
   "id": "8329ead1-d642-4ac5-8040-6845254a6bab",
   "metadata": {},
   "outputs": [],
   "source": [
    "fifa = pd.read_csv(\"/Users/milenko/My Drive (1307mile@gmail.com)/bootcamp/w3 project/data/fifa/fifa21_raw_data.csv\")\n",
    "fifa.head()"
   ]
  },
  {
   "cell_type": "code",
   "execution_count": null,
   "id": "9ee865aa-0bca-404d-a82f-fdfc53198d45",
   "metadata": {},
   "outputs": [],
   "source": [
    "hotels = pd.read_csv(\"/Users/milenko/My Drive (1307mile@gmail.com)/bootcamp/w3 project/data/makemytrip_com-travel_sample.csv\")\n",
    "hotels.head()"
   ]
  },
  {
   "cell_type": "code",
   "execution_count": null,
   "id": "27c676c2-8ffe-431a-a841-76cee50d80ff",
   "metadata": {},
   "outputs": [],
   "source": []
  }
 ],
 "metadata": {
  "kernelspec": {
   "display_name": "project_1",
   "language": "python",
   "name": "project_1"
  },
  "language_info": {
   "codemirror_mode": {
    "name": "ipython",
    "version": 3
   },
   "file_extension": ".py",
   "mimetype": "text/x-python",
   "name": "python",
   "nbconvert_exporter": "python",
   "pygments_lexer": "ipython3",
   "version": "3.11.5"
  }
 },
 "nbformat": 4,
 "nbformat_minor": 5
}
